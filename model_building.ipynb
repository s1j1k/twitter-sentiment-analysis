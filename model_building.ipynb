{
 "cells": [
  {
   "cell_type": "markdown",
   "metadata": {
    "collapsed": false,
    "pycharm": {
     "name": "#%% md\n"
    }
   },
   "source": [
    "# Model Building\n",
    "- implement classifiers using supervised and unsupervised models\n",
    "- analyze the classifer models with different parameters and input features"
   ]
  },
  {
   "cell_type": "markdown",
   "metadata": {
    "collapsed": false,
    "pycharm": {
     "name": "#%% md\n"
    }
   },
   "source": [
    "# Import Libraries"
   ]
  },
  {
   "cell_type": "code",
   "execution_count": 1,
   "metadata": {},
   "outputs": [],
   "source": [
    "import re\n",
    "import pickle \n",
    "import pandas as pd\n",
    "import numpy as np \n",
    "from scipy import stats\n",
    "from bs4 import BeautifulSoup\n",
    "import emoji\n",
    "from sklearn.linear_model import LogisticRegression\n",
    "from sklearn.metrics import f1_score\n",
    "from sklearn.neural_network import MLPClassifier\n",
    "#from sklearn.model_selection import cross_val_score, StratifiedKFold\n",
    "from sklearn.feature_extraction.text import TfidfVectorizer\n",
    "#from scipy.sparse import hstack\n",
    "#from matplotlib import pyplot as plt\n",
    "import seaborn as sns\n",
    "#from nltk.classify.scikitlearn import SklearnClassifier\n",
    "from sklearn.naive_bayes import MultinomialNB\n",
    "from nltk.classify.util import accuracy\n",
    "from sklearn.metrics import f1_score\n",
    "from sklearn import preprocessing\n",
    "from sklearn.metrics import precision_recall_fscore_support\n",
    "from sklearn.preprocessing import MinMaxScaler, StandardScaler\n",
    "from sklearn.pipeline import Pipeline\n",
    "from sklearn.neural_network import MLPClassifier\n",
    "\n",
    "# unsupervised \n",
    "from vaderSentiment.vaderSentiment import SentimentIntensityAnalyzer\n",
    "from sklearn.cluster import KMeans\n",
    "\n",
    "# semisupervised\n",
    "from sklearn.semi_supervised import SelfTrainingClassifier\n",
    "\n",
    "## importing libraries\n",
    "## data manipulation\n",
    "import pickle\n",
    "import pandas as pd\n",
    "import numpy as np\n",
    "import re\n",
    "import string\n",
    "\n",
    "## methods and stopwords text processing\n",
    "from nltk.corpus import stopwords\n",
    "#from nltk.tokenize import word_tokenize # replace??\n",
    "from nltk.tokenize import RegexpTokenizer\n",
    "from nltk.stem import PorterStemmer\n",
    "from nltk.stem import WordNetLemmatizer\n",
    "from sklearn.feature_extraction.text import TfidfVectorizer\n",
    "from sklearn.model_selection import train_test_split\n",
    "\n",
    "## Machine learning libraries\n",
    "from sklearn.metrics import accuracy_score\n",
    "from sklearn.naive_bayes import MultinomialNB\n",
    "from sklearn.linear_model import LogisticRegression\n",
    "from sklearn.svm import SVC\n",
    "\n",
    "import warnings\n",
    "warnings.filterwarnings(\"ignore\")\n",
    "\n",
    "#NLP\n",
    "import nltk\n"
   ]
  },
  {
   "cell_type": "markdown",
   "metadata": {
    "collapsed": false,
    "pycharm": {
     "name": "#%% md\n"
    }
   },
   "source": [
    "# Tweet preprocessing"
   ]
  },
  {
   "cell_type": "markdown",
   "metadata": {},
   "source": [
    "### Feature engineering from raw tweets\n",
    " \n",
    "Provide a method to perform the preprocessing steps:\n",
    "1. casing\n",
    "2. noise removal\n",
    "3. tokenization\n",
    "4. stopword removal\n",
    "5. text normalization (stemming and lemmatization)"
   ]
  },
  {
   "cell_type": "code",
   "execution_count": null,
   "metadata": {
    "is_executing": true
   },
   "outputs": [],
   "source": [
    "def decode_str(str):\n",
    "    # fix encoding for emojis\n",
    "    soup = BeautifulSoup(str,\"html5lib\")\n",
    "    text = soup.text.encode('latin1').decode('utf-8','ignore')\n",
    "    return text"
   ]
  },
  {
   "cell_type": "code",
   "execution_count": 6,
   "metadata": {
    "collapsed": false,
    "pycharm": {
     "name": "#%%\n"
    }
   },
   "outputs": [
    {
     "name": "stderr",
     "output_type": "stream",
     "text": [
      "[nltk_data] Downloading package stopwords to\n",
      "[nltk_data]     C:\\Users\\sally\\AppData\\Roaming\\nltk_data...\n",
      "[nltk_data]   Package stopwords is already up-to-date!\n",
      "[nltk_data] Downloading package wordnet to\n",
      "[nltk_data]     C:\\Users\\sally\\AppData\\Roaming\\nltk_data...\n",
      "[nltk_data]   Package wordnet is already up-to-date!\n"
     ]
    }
   ],
   "source": [
    "\"\"\"\n",
    "Citation (edited but sourced in part from):\n",
    "<Harshit Tyagi> (08/09/2020) <Sentiment_Analysis> (1) [.ipynb]. https://youtu.be/lMQzEk5vht4.\n",
    "\"\"\"\n",
    "\n",
    "## creating a stopwords set\n",
    "nltk.download('stopwords')\n",
    "stop_words = set(stopwords.words('english'))\n",
    "\n",
    "# required for preprocessing step\n",
    "import nltk\n",
    "nltk.download('wordnet')\n",
    "\n",
    "\n",
    "def preprocess(tweet):\n",
    "    \"\"\"\n",
    "    preprocess the text of the tweet\n",
    "    \"\"\"\n",
    "    # convert all text lowercase\n",
    "    tweet = tweet.lower()\n",
    "\n",
    "    # remove any urls\n",
    "    tweet = re.sub(r\"http\\S+|www\\S+|https\\S+\",\"\",tweet,flags=re.MULTILINE)\n",
    "\n",
    "    # remove user @ references and '#' from tweet\n",
    "    tweet = re.sub(r'\\@\\w+|\\#',\"\",tweet)\n",
    "\n",
    "    # remove stop words\n",
    "    tokenizer = RegexpTokenizer(\"[\\w]+\")\n",
    "    tweet_tokens = tokenizer.tokenize(tweet)\n",
    "    filtered_words = [word for word in tweet_tokens if word not in stop_words]\n",
    "\n",
    "    # stemming\n",
    "    ps = PorterStemmer()\n",
    "    stemmed_words = [ps.stem(w) for w in filtered_words]\n",
    "\n",
    "    # lemmatizing\n",
    "    lemmatizer = WordNetLemmatizer()\n",
    "    lemma_words = [lemmatizer.lemmatize(w, pos='a') for w in stemmed_words]\n",
    "\n",
    "    return \" \".join(lemma_words)"
   ]
  },
  {
   "cell_type": "markdown",
   "metadata": {},
   "source": [
    "# Load data"
   ]
  },
  {
   "cell_type": "markdown",
   "metadata": {},
   "source": [
    "Create DataFrames for the different data formats\n",
    "- raw tweets\n",
    "- Tfidf tweets\n",
    "- embedded tweets"
   ]
  },
  {
   "cell_type": "code",
   "execution_count": 2,
   "metadata": {},
   "outputs": [],
   "source": [
    "def pickle_to_df(filepath):\n",
    "    with open(filepath,'rb') as f:\n",
    "        data = pickle.load(f)#,encoding='utf-8')    \n",
    "    df = pd.DataFrame(data)\n",
    "    return df\n",
    "\n",
    "train_raw = pickle_to_df('./raw-tweets/tweets-data/train.pkl')\n",
    "dev_raw = pickle_to_df('./raw-tweets/tweets-data/dev.pkl')\n",
    "test_raw = pickle_to_df('./raw-tweets/tweets-data/test.pkl')\n",
    "unlabelled_raw = pickle_to_df('./raw-tweets/tweets-data/test.pkl')\n",
    "\n",
    "train_tfidf = pickle_to_df('./tfidf-tweets/tfidf/train_tfidf.pkl')\n",
    "dev_tfidf = pickle_to_df('./tfidf-tweets/tfidf/dev_tfidf.pkl')\n",
    "test_tfidf = pickle_to_df('./tfidf-tweets/tfidf/test_tfidf.pkl')\n",
    "unlabelled_tfidf = pickle_to_df('./tfidf-tweets/tfidf/unlabeled_tfidf.pkl')\n",
    "\n",
    "train_emb = pickle_to_df('./embedding-tweets/sentence-transformers/train_emb.pkl')\n",
    "dev_emb = pickle_to_df('./embedding-tweets/sentence-transformers/dev_emb.pkl')\n",
    "test_emb = pickle_to_df('./embedding-tweets/sentence-transformers/test_emb.pkl')\n",
    "unlabelled_emb = pickle_to_df('./embedding-tweets/sentence-transformers/unlabeled_emb.pkl')"
   ]
  },
  {
   "cell_type": "code",
   "execution_count": 6,
   "metadata": {},
   "outputs": [
    {
     "data": {
      "text/plain": [
       "(40000, 4000, 4000, 4000)"
      ]
     },
     "execution_count": 6,
     "metadata": {},
     "output_type": "execute_result"
    }
   ],
   "source": [
    "len(train_raw), len(dev_raw), len(test_raw), len(unlabelled_raw)"
   ]
  },
  {
   "cell_type": "markdown",
   "metadata": {},
   "source": [
    "# Feature engineering\n"
   ]
  },
  {
   "cell_type": "code",
   "execution_count": 68,
   "metadata": {},
   "outputs": [
    {
     "data": {
      "text/plain": [
       "65    Bro ass be wolfin _TWITTER-ENTITY_ âbut that...\n",
       "98        _TWITTER-ENTITY_ give her a kissss for me â¤\n",
       "Name: text, dtype: object"
      ]
     },
     "execution_count": 68,
     "metadata": {},
     "output_type": "execute_result"
    }
   ],
   "source": [
    "train_raw['text'][[65,98]]"
   ]
  },
  {
   "cell_type": "code",
   "execution_count": 67,
   "metadata": {},
   "outputs": [
    {
     "data": {
      "text/plain": [
       "65    Bro ass be wolfin _TWITTER-ENTITY_ ✋but that's...\n",
       "98          _TWITTER-ENTITY_ give her a kissss for me ❤\n",
       "Name: text, dtype: object"
      ]
     },
     "execution_count": 67,
     "metadata": {},
     "output_type": "execute_result"
    }
   ],
   "source": [
    "train_raw['text'].apply(decode_str)[[65,98]]"
   ]
  },
  {
   "cell_type": "markdown",
   "metadata": {},
   "source": [
    "# Evaluation metric"
   ]
  },
  {
   "cell_type": "code",
   "execution_count": 3,
   "metadata": {},
   "outputs": [],
   "source": [
    "# logistic regression evaluation\n",
    "# note you should use the same evaluation for each model\n",
    "# todo tune evaluation parameters\n",
    "#skf = StratifiedKFold(n_splits=5, shuffle=True, random_state=17)\n",
    "\n",
    "# X_train_dev = text_transformer.fit_transform(pd.concat([train_raw['text'],dev_raw['text'],unlabelled_raw['text'],test_raw['text']]))\n",
    "# X_train = X_train_dev[:len(train_raw),:]\n",
    "# X_dev = X_train_dev[len(train_raw):len(train_raw)+len(dev_raw),:]\n",
    "# logit = LogisticRegression(C=5e1, solver='lbfgs', multi_class='ovr', random_state=17, n_jobs=4) \n",
    "# logit.fit(X_train, y_train)\n",
    "# y_pred = logit.predict(X_dev)\n",
    "# f1_score(y_dev, y_pred, average='micro')"
   ]
  },
  {
   "cell_type": "markdown",
   "metadata": {
    "collapsed": false,
    "pycharm": {
     "name": "#%% md\n"
    }
   },
   "source": [
    "# Supervised Learners"
   ]
  },
  {
   "cell_type": "markdown",
   "metadata": {
    "collapsed": false,
    "pycharm": {
     "name": "#%% md\n"
    }
   },
   "source": [
    "## Logistic Regression\n",
    "- create a baseline logistic regression model \n",
    "- try it on different feature representations\n",
    "- check accuracy "
   ]
  },
  {
   "cell_type": "code",
   "execution_count": 9,
   "metadata": {},
   "outputs": [],
   "source": [
    "# logistic regression model\n",
    "logit = LogisticRegression(C=5e1, solver='lbfgs', multi_class='ovr', random_state=17, n_jobs=4) # binary classification problem (positive/negative)"
   ]
  },
  {
   "cell_type": "markdown",
   "metadata": {},
   "source": [
    "### Raw Tweets\n",
    "\n",
    "- try with common preprocessing method\n",
    "- try your own preprocessing"
   ]
  },
  {
   "cell_type": "markdown",
   "metadata": {},
   "source": [
    "first decode the tweets and make readable"
   ]
  },
  {
   "cell_type": "code",
   "execution_count": 76,
   "metadata": {},
   "outputs": [],
   "source": [
    "train_raw_new = train_raw.copy()\n",
    "train_raw_new['text'] = train_raw_new['text'].apply(decode_str)"
   ]
  },
  {
   "cell_type": "markdown",
   "metadata": {},
   "source": [
    "transform the tweets with TFIDF (note: No text processing is done besides the decoding of text)"
   ]
  },
  {
   "cell_type": "code",
   "execution_count": 77,
   "metadata": {
    "collapsed": false,
    "pycharm": {
     "name": "#%%\n"
    }
   },
   "outputs": [],
   "source": [
    "# transform with TFIDF\n",
    "from sklearn.feature_extraction.text import TfidfVectorizer\n",
    "text_transformer = TfidfVectorizer(stop_words='english', ngram_range=(1, 2), lowercase=True, max_features=150000)"
   ]
  },
  {
   "cell_type": "code",
   "execution_count": 80,
   "metadata": {},
   "outputs": [],
   "source": [
    "vectorizer = TfidfVectorizer(sublinear_tf=True)"
   ]
  },
  {
   "cell_type": "markdown",
   "metadata": {},
   "source": [
    "### Evaluation\n",
    "- check f1 score\n",
    "- optimize\n",
    "- tune parameters"
   ]
  },
  {
   "cell_type": "markdown",
   "metadata": {},
   "source": [
    "without decoding the text"
   ]
  },
  {
   "cell_type": "code",
   "execution_count": 83,
   "metadata": {},
   "outputs": [
    {
     "data": {
      "text/plain": [
       "0.673"
      ]
     },
     "execution_count": 83,
     "metadata": {},
     "output_type": "execute_result"
    }
   ],
   "source": [
    "X_train_dev = text_transformer.fit_transform(pd.concat([train_raw['text'],dev_raw['text']]))\n",
    "X_train = X_train_dev[:len(train_raw),:]\n",
    "X_dev = X_train_dev[len(train_raw):,:]\n",
    "y_train = train_raw['Sentiment']\n",
    "y_dev = dev_raw['Sentiment']\n",
    "logit = LogisticRegression(C=5e1, solver='lbfgs', multi_class='ovr', random_state=17, n_jobs=4) \n",
    "logit.fit(X_train, y_train)\n",
    "y_pred = logit.predict(X_dev)\n",
    "f1_score(y_dev, y_pred, average='micro')"
   ]
  },
  {
   "cell_type": "markdown",
   "metadata": {},
   "source": [
    "try with pre processing `preprocess` and then `vectorizer`"
   ]
  },
  {
   "cell_type": "code",
   "execution_count": 81,
   "metadata": {},
   "outputs": [
    {
     "data": {
      "text/plain": [
       "0.66775"
      ]
     },
     "execution_count": 81,
     "metadata": {},
     "output_type": "execute_result"
    }
   ],
   "source": [
    "preprocessed = pd.concat([train_raw['text'],dev_raw['text'],unlabelled_raw['text'],test_raw['text']]).apply(preprocess)\n",
    "X_train_dev = vectorizer.fit_transform(preprocessed)\n",
    "X_train = X_train_dev[:len(train_raw),:]\n",
    "X_dev = X_train_dev[len(train_raw):len(train_raw)+len(dev_raw),:]\n",
    "logit = LogisticRegression(C=5e1, solver='lbfgs', multi_class='ovr', random_state=17, n_jobs=4) \n",
    "logit.fit(X_train, y_train)\n",
    "y_pred = logit.predict(X_dev)\n",
    "f1_score(y_dev, y_pred, average='micro')"
   ]
  },
  {
   "cell_type": "markdown",
   "metadata": {},
   "source": [
    "redefine the preprocess function"
   ]
  },
  {
   "cell_type": "code",
   "execution_count": 84,
   "metadata": {},
   "outputs": [],
   "source": [
    "replace_strings = {\n",
    "    \"_TWITTER-ENTITY_\":\" \",\n",
    "    \"& amp ;\":\"and\",\n",
    "    \"& lt ;\":\"<\",\n",
    "    \"& gt ;\":\">\"\n",
    "}\n",
    "\n",
    "def preprocess(tweet):\n",
    "    \"\"\"\n",
    "    preprocess the text of the tweet\n",
    "    \"\"\"\n",
    "    # replace the random strings\n",
    "    for x in replace_strings:\n",
    "        tweet = tweet.replace(x, replace_strings[x])\n",
    "\n",
    "    # remove any urls\n",
    "    tweet = re.sub(r\"http\\S+|www\\S+|https\\S+\",\"\",tweet,flags=re.MULTILINE)\n",
    "\n",
    "    # remove user @ references and '#' from tweet\n",
    "    tweet = re.sub(r'\\@\\w+|\\#|\\\\',\"\",tweet)\n",
    "\n",
    "    # ensure polarity of negations is captured\n",
    "\n",
    "    # exception in english\n",
    "    if \"can't\" in tweet.lower():\n",
    "        tweet = tweet.replace(\"can't\",\"can not\")\n",
    "        tweet = tweet.replace(\"CAN'T\",\"CAN NOT\")\n",
    "        tweet = re.sub(r'[Cc][Aa][Nn]\\'[tT]','can not',tweet)\n",
    "\n",
    "    # exception in english\n",
    "    if \"shan't\" in tweet.lower():\n",
    "        tweet = tweet.replace(\"shan't\",\"shall not\")\n",
    "        tweet = tweet.replace(\"SHAN'T\",\"SHALL NOT\")\n",
    "        tweet = re.sub(r'[Ss][Hh][Aa][Nn]\\'[tT]','shall not',tweet)\n",
    "\n",
    "    # should cover the rest of the contractions\n",
    "    if \"n't\" in tweet.lower():\n",
    "        tweet = tweet.replace(\"n't\",\" not\")\n",
    "        tweet = tweet.replace(\"N'T\",\" NOT\")\n",
    "        tweet = re.sub(r'[Nn]\\'[tT]',' not',tweet)\n",
    "\n",
    "    \n",
    "    # replace repeating letters more than 2 times \n",
    "    tweet = re.sub('^NO+', 'NO', tweet)\n",
    "    tweet = re.sub('^no+', 'no', tweet)\n",
    "    tweet = re.sub('^N[oO]+', 'No', tweet)\n",
    "    tweet = re.sub('^n[oO]+', 'no', tweet)\n",
    "\n",
    "    return tweet"
   ]
  },
  {
   "cell_type": "code",
   "execution_count": 86,
   "metadata": {},
   "outputs": [
    {
     "data": {
      "text/plain": [
       "0.67075"
      ]
     },
     "execution_count": 86,
     "metadata": {},
     "output_type": "execute_result"
    }
   ],
   "source": [
    "preprocessed = pd.concat([train_raw['text'],dev_raw['text'],unlabelled_raw['text'],test_raw['text']]).apply(preprocess)\n",
    "X_train_dev = vectorizer.fit_transform(preprocessed)\n",
    "X_train = X_train_dev[:len(train_raw),:]\n",
    "X_dev = X_train_dev[len(train_raw):len(train_raw)+len(dev_raw),:]\n",
    "logit = LogisticRegression(C=5e1, solver='lbfgs', multi_class='ovr', random_state=17, n_jobs=4) \n",
    "logit.fit(X_train, y_train)\n",
    "y_pred = logit.predict(X_dev)\n",
    "f1_score(y_dev, y_pred, average='micro')"
   ]
  },
  {
   "cell_type": "code",
   "execution_count": 87,
   "metadata": {},
   "outputs": [],
   "source": [
    "replace_strings = {\n",
    "    \"_TWITTER-ENTITY_\":\"\",\n",
    "    \"& amp ;\":\"and\",\n",
    "    \"& lt ;\":\"<\",\n",
    "    \"& gt ;\":\">\"\n",
    "}"
   ]
  },
  {
   "cell_type": "code",
   "execution_count": 89,
   "metadata": {},
   "outputs": [
    {
     "data": {
      "text/plain": [
       "0.67075"
      ]
     },
     "execution_count": 89,
     "metadata": {},
     "output_type": "execute_result"
    }
   ],
   "source": [
    "preprocessed = pd.concat([train_raw['text'],dev_raw['text'],unlabelled_raw['text'],test_raw['text']]).apply(preprocess)\n",
    "X_train_dev = vectorizer.fit_transform(preprocessed)\n",
    "X_train = X_train_dev[:len(train_raw),:]\n",
    "X_dev = X_train_dev[len(train_raw):len(train_raw)+len(dev_raw),:]\n",
    "logit = LogisticRegression(C=5e1, solver='lbfgs', multi_class='ovr', random_state=17, n_jobs=4) \n",
    "logit.fit(X_train, y_train)\n",
    "y_pred = logit.predict(X_dev)\n",
    "f1_score(y_dev, y_pred, average='micro')"
   ]
  },
  {
   "cell_type": "markdown",
   "metadata": {},
   "source": [
    "Note that changing the replacement of user name to \"\" yields a different result"
   ]
  },
  {
   "cell_type": "code",
   "execution_count": 43,
   "metadata": {},
   "outputs": [],
   "source": [
    "replace_strings = {\n",
    "    \"_TWITTER-ENTITY_\":\" \",\n",
    "    \"& amp ;\":\"\",\n",
    "    \"& lt ;\":\"\",\n",
    "    \"& gt ;\":\"\"\n",
    "}"
   ]
  },
  {
   "cell_type": "code",
   "execution_count": 90,
   "metadata": {},
   "outputs": [
    {
     "data": {
      "text/plain": [
       "0.67075"
      ]
     },
     "execution_count": 90,
     "metadata": {},
     "output_type": "execute_result"
    }
   ],
   "source": [
    "preprocessed = pd.concat([train_raw['text'],dev_raw['text'],unlabelled_raw['text'],test_raw['text']]).apply(preprocess)\n",
    "X_train_dev = vectorizer.fit_transform(preprocessed)\n",
    "X_train = X_train_dev[:len(train_raw),:]\n",
    "X_dev = X_train_dev[len(train_raw):len(train_raw)+len(dev_raw),:]\n",
    "logit = LogisticRegression(C=5e1, solver='lbfgs', multi_class='ovr', random_state=17, n_jobs=4) \n",
    "logit.fit(X_train, y_train)\n",
    "y_pred = logit.predict(X_dev)\n",
    "f1_score(y_dev, y_pred, average='micro')"
   ]
  },
  {
   "cell_type": "markdown",
   "metadata": {},
   "source": [
    "try to demojize"
   ]
  },
  {
   "cell_type": "code",
   "execution_count": 91,
   "metadata": {},
   "outputs": [],
   "source": [
    "replace_strings = {\n",
    "    \"_TWITTER-ENTITY_\":\" \",\n",
    "    \"& amp ;\":\"and\",\n",
    "    \"& lt ;\":\"<\",\n",
    "    \"& gt ;\":\">\"\n",
    "}\n",
    "\n",
    "def preprocess(tweet):\n",
    "    \"\"\"\n",
    "    preprocess the text of the tweet\n",
    "    \"\"\"\n",
    "\n",
    "\n",
    "    # replace the random strings\n",
    "    for x in replace_strings:\n",
    "        tweet = tweet.replace(x, replace_strings[x])\n",
    "\n",
    "    # replace emojis with the meanings\n",
    "    tweet = emoji.demojize(tweet)\n",
    "\n",
    "    # remove any urls\n",
    "    tweet = re.sub(r\"http\\S+|www\\S+|https\\S+\",\"\",tweet,flags=re.MULTILINE)\n",
    "\n",
    "    # remove user @ references and '#' from tweet\n",
    "    tweet = re.sub(r'\\@\\w+|\\#|\\\\',\"\",tweet)\n",
    "\n",
    "    # ensure polarity of negations is captured\n",
    "\n",
    "    # exception in english\n",
    "    if \"can't\" in tweet.lower():\n",
    "        tweet = tweet.replace(\"can't\",\"can not\")\n",
    "        tweet = tweet.replace(\"CAN'T\",\"CAN NOT\")\n",
    "        tweet = re.sub(r'[Cc][Aa][Nn]\\'[tT]','can not',tweet)\n",
    "\n",
    "    # exception in english\n",
    "    if \"shan't\" in tweet.lower():\n",
    "        tweet = tweet.replace(\"shan't\",\"shall not\")\n",
    "        tweet = tweet.replace(\"SHAN'T\",\"SHALL NOT\")\n",
    "        tweet = re.sub(r'[Ss][Hh][Aa][Nn]\\'[tT]','shall not',tweet)\n",
    "\n",
    "    # should cover the rest of the contractions\n",
    "    if \"n't\" in tweet.lower():\n",
    "        tweet = tweet.replace(\"n't\",\" not\")\n",
    "        tweet = tweet.replace(\"N'T\",\" NOT\")\n",
    "        tweet = re.sub(r'[Nn]\\'[tT]',' not',tweet)\n",
    "\n",
    "    \n",
    "    # replace repeating letters more than 2 times \n",
    "    tweet = re.sub('^NO+', 'NO', tweet)\n",
    "    tweet = re.sub('^no+', 'no', tweet)\n",
    "    tweet = re.sub('^N[oO]+', 'No', tweet)\n",
    "    tweet = re.sub('^n[oO]+', 'no', tweet)\n",
    "\n",
    "    return tweet"
   ]
  },
  {
   "cell_type": "code",
   "execution_count": 92,
   "metadata": {},
   "outputs": [
    {
     "data": {
      "text/plain": [
       "0.67175"
      ]
     },
     "execution_count": 92,
     "metadata": {},
     "output_type": "execute_result"
    }
   ],
   "source": [
    "preprocessed = pd.concat([train_raw['text'],dev_raw['text'],unlabelled_raw['text'],test_raw['text']]).apply(preprocess)\n",
    "X_train_dev = vectorizer.fit_transform(preprocessed)\n",
    "X_train = X_train_dev[:len(train_raw),:]\n",
    "X_dev = X_train_dev[len(train_raw):len(train_raw)+len(dev_raw),:]\n",
    "logit = LogisticRegression(C=5e1, solver='lbfgs', multi_class='ovr', random_state=17, n_jobs=4) \n",
    "logit.fit(X_train, y_train)\n",
    "y_pred = logit.predict(X_dev)\n",
    "f1_score(y_dev, y_pred, average='micro')"
   ]
  },
  {
   "cell_type": "markdown",
   "metadata": {},
   "source": [
    "### Experiment"
   ]
  },
  {
   "cell_type": "markdown",
   "metadata": {},
   "source": [
    "raw and unpreprocessed"
   ]
  },
  {
   "cell_type": "code",
   "execution_count": 93,
   "metadata": {},
   "outputs": [],
   "source": [
    "train_dev_raw = pd.concat([train_raw, dev_raw])\n",
    "\n",
    "X = text_transformer.fit_transform(pd.concat([train_dev_raw['text'],test_raw['text'],unlabelled_raw['text']]))\n",
    "\n",
    "X_train = X[:len(train_dev_raw),:]\n",
    "y_train = train_dev_raw['Sentiment']\n",
    "\n",
    "X_test = X[len(train_dev_raw):len(train_dev_raw)+len(test_raw),:]\n",
    "\n",
    "logit = LogisticRegression(C=5e1, solver='lbfgs', multi_class='ovr', random_state=17, n_jobs=4) \n",
    "\n",
    "logit.fit(X_train, y_train)\n",
    "\n",
    "y_pred = logit.predict(X_test)"
   ]
  },
  {
   "cell_type": "code",
   "execution_count": 94,
   "metadata": {},
   "outputs": [],
   "source": [
    "# for kaggle upload \n",
    "test_preds = y_pred\n",
    "test_preds = logit.predict(X_test)\n",
    "test_preds_df = pd.DataFrame({'Category':test_preds})\n",
    "test_preds_df.index.name = 'Id'\n",
    "test_preds_df.to_csv('test_predictions.csv')"
   ]
  },
  {
   "cell_type": "markdown",
   "metadata": {},
   "source": [
    "Kaggle result:\n",
    "\n",
    "0.67833"
   ]
  },
  {
   "cell_type": "markdown",
   "metadata": {},
   "source": [
    "### Results by Demographic"
   ]
  },
  {
   "cell_type": "code",
   "execution_count": 61,
   "metadata": {},
   "outputs": [
    {
     "data": {
      "text/plain": [
       "<AxesSubplot:xlabel='Demographic', ylabel='Count'>"
      ]
     },
     "execution_count": 61,
     "metadata": {},
     "output_type": "execute_result"
    },
    {
     "data": {
      "image/png": "[encoded data removed]",
      "text/plain": [
       "<Figure size 432x288 with 1 Axes>"
      ]
     },
     "metadata": {
      "needs_background": "light"
     },
     "output_type": "display_data"
    }
   ],
   "source": [
    "sns.histplot(test_raw.Demographic)"
   ]
  },
  {
   "cell_type": "code",
   "execution_count": 65,
   "metadata": {},
   "outputs": [
    {
     "data": {
      "text/plain": [
       "Demographic\n",
       "AAE    20000\n",
       "SAE    20000\n",
       "dtype: int64"
      ]
     },
     "execution_count": 65,
     "metadata": {},
     "output_type": "execute_result"
    }
   ],
   "source": [
    "train_raw.groupby(['Demographic']).size()"
   ]
  },
  {
   "cell_type": "code",
   "execution_count": 95,
   "metadata": {},
   "outputs": [],
   "source": [
    "X_train_dev = text_transformer.fit_transform(pd.concat([train_raw['text'],dev_raw['text'],unlabelled_raw['text'],test_raw['text']]))\n",
    "X_train = X_train_dev[:len(train_raw),:]\n",
    "y_train = train_raw['Sentiment']\n",
    "X_dev = X_train_dev[len(train_raw):len(train_raw)+len(dev_raw),:]\n",
    "\n",
    "X_train_AAE = X_train[train_raw['Demographic'] == 'AAE']\n",
    "y_train_AAE = train_raw[train_raw['Demographic'] == 'AAE']['Sentiment']\n",
    "\n",
    "X_train_SAE = X_train[train_raw['Demographic'] == 'SAE']\n",
    "y_train_SAE = train_raw[train_raw['Demographic'] == 'SAE']['Sentiment']\n",
    "\n",
    "X_dev_AAE = X_dev[dev_raw['Demographic'] == 'AAE']\n",
    "y_dev_AAE = dev_raw[dev_raw['Demographic'] == 'AAE']['Sentiment']\n",
    "\n",
    "X_dev_SAE = X_dev[dev_raw['Demographic'] == 'SAE']\n",
    "y_dev_SAE = dev_raw[dev_raw['Demographic'] == 'SAE']['Sentiment']"
   ]
  },
  {
   "cell_type": "markdown",
   "metadata": {},
   "source": [
    "test training the model only on AAE"
   ]
  },
  {
   "cell_type": "code",
   "execution_count": 96,
   "metadata": {},
   "outputs": [
    {
     "data": {
      "text/plain": [
       "0.637"
      ]
     },
     "execution_count": 96,
     "metadata": {},
     "output_type": "execute_result"
    }
   ],
   "source": [
    "logit = LogisticRegression(C=5e1, solver='lbfgs', multi_class='ovr', random_state=17, n_jobs=4) \n",
    "logit.fit(X_train_AAE, y_train_AAE)\n",
    "y_pred = logit.predict(X_dev)\n",
    "f1_score(y_dev, y_pred, average='micro')"
   ]
  },
  {
   "cell_type": "markdown",
   "metadata": {},
   "source": [
    "test training the model only on SAE"
   ]
  },
  {
   "cell_type": "code",
   "execution_count": 97,
   "metadata": {},
   "outputs": [
    {
     "data": {
      "text/plain": [
       "0.66075"
      ]
     },
     "execution_count": 97,
     "metadata": {},
     "output_type": "execute_result"
    }
   ],
   "source": [
    "logit = LogisticRegression(C=5e1, solver='lbfgs', multi_class='ovr', random_state=17, n_jobs=4) \n",
    "logit.fit(X_train_SAE, y_train_SAE)\n",
    "y_pred = logit.predict(X_dev)\n",
    "f1_score(y_dev, y_pred, average='micro')"
   ]
  },
  {
   "cell_type": "markdown",
   "metadata": {},
   "source": [
    "f1 score decreases for both, when compared to training on both demographics"
   ]
  },
  {
   "cell_type": "code",
   "execution_count": 98,
   "metadata": {},
   "outputs": [
    {
     "data": {
      "text/plain": [
       "0.67475"
      ]
     },
     "execution_count": 98,
     "metadata": {},
     "output_type": "execute_result"
    }
   ],
   "source": [
    "logit = LogisticRegression(C=5e1, solver='lbfgs', multi_class='ovr', random_state=17, n_jobs=4) \n",
    "logit.fit(X_train, y_train)\n",
    "y_pred = logit.predict(X_dev)\n",
    "f1_score(y_dev, y_pred, average='micro')"
   ]
  },
  {
   "cell_type": "markdown",
   "metadata": {},
   "source": [
    "test making predictions only on AAE"
   ]
  },
  {
   "cell_type": "code",
   "execution_count": 99,
   "metadata": {},
   "outputs": [
    {
     "data": {
      "text/plain": [
       "0.634"
      ]
     },
     "execution_count": 99,
     "metadata": {},
     "output_type": "execute_result"
    }
   ],
   "source": [
    "logit = LogisticRegression(C=5e1, solver='lbfgs', multi_class='ovr', random_state=17, n_jobs=4) \n",
    "logit.fit(X_train, y_train)\n",
    "y_pred = logit.predict(X_dev_AAE)\n",
    "f1_score(y_dev_AAE, y_pred, average='micro')"
   ]
  },
  {
   "cell_type": "markdown",
   "metadata": {},
   "source": [
    "test making predictions only on SAE"
   ]
  },
  {
   "cell_type": "code",
   "execution_count": 100,
   "metadata": {},
   "outputs": [
    {
     "data": {
      "text/plain": [
       "0.7154999999999999"
      ]
     },
     "execution_count": 100,
     "metadata": {},
     "output_type": "execute_result"
    }
   ],
   "source": [
    "logit = LogisticRegression(C=5e1, solver='lbfgs', multi_class='ovr', random_state=17, n_jobs=4) \n",
    "logit.fit(X_train, y_train)\n",
    "y_pred = logit.predict(X_dev_SAE)\n",
    "f1_score(y_dev_SAE, y_pred, average='micro')"
   ]
  },
  {
   "cell_type": "markdown",
   "metadata": {},
   "source": [
    "*****************"
   ]
  },
  {
   "cell_type": "markdown",
   "metadata": {},
   "source": [
    "### TFIDF Tweets"
   ]
  },
  {
   "cell_type": "code",
   "execution_count": 101,
   "metadata": {},
   "outputs": [],
   "source": [
    "X_train = train_tfidf['TFIDF'].tolist()\n",
    "X_dev = dev_tfidf['TFIDF'].tolist()\n",
    "y_train = train_tfidf['Sentiment']\n",
    "y_dev = dev_tfidf['Sentiment']"
   ]
  },
  {
   "cell_type": "code",
   "execution_count": 102,
   "metadata": {},
   "outputs": [
    {
     "data": {
      "text/plain": [
       "0.67675"
      ]
     },
     "execution_count": 102,
     "metadata": {},
     "output_type": "execute_result"
    }
   ],
   "source": [
    "logit = LogisticRegression(C=5e1, solver='lbfgs', multi_class='ovr', random_state=17, n_jobs=4) \n",
    "logit.fit(X_train, y_train)\n",
    "y_pred = logit.predict(X_dev)\n",
    "f1_score(y_dev, y_pred, average='micro')"
   ]
  },
  {
   "cell_type": "markdown",
   "metadata": {},
   "source": [
    "### Embedding Tweets"
   ]
  },
  {
   "cell_type": "code",
   "execution_count": 103,
   "metadata": {},
   "outputs": [],
   "source": [
    "X_train = train_emb['TFIDF'].tolist()\n",
    "X_dev = dev_emb['TFIDF'].tolist()\n",
    "y_train = train_emb['Sentiment']\n",
    "y_dev = dev_emb['Sentiment']"
   ]
  },
  {
   "cell_type": "markdown",
   "metadata": {},
   "source": [
    "evaluate"
   ]
  },
  {
   "cell_type": "code",
   "execution_count": 104,
   "metadata": {},
   "outputs": [
    {
     "data": {
      "text/plain": [
       "0.69825"
      ]
     },
     "execution_count": 104,
     "metadata": {},
     "output_type": "execute_result"
    }
   ],
   "source": [
    "logit = LogisticRegression(C=5e1, solver='lbfgs', multi_class='ovr', random_state=17, n_jobs=4) \n",
    "logit.fit(X_train, y_train)\n",
    "y_pred = logit.predict(X_dev)\n",
    "f1_score(y_dev, y_pred, average='micro')"
   ]
  },
  {
   "cell_type": "markdown",
   "metadata": {},
   "source": [
    "best result so far on the embedded data set, faster than TFIDF, slower than raw"
   ]
  },
  {
   "cell_type": "markdown",
   "metadata": {},
   "source": [
    "upload"
   ]
  },
  {
   "cell_type": "code",
   "execution_count": 68,
   "metadata": {},
   "outputs": [],
   "source": [
    "train_dev_emb = pd.concat([train_emb, dev_emb])\n",
    "X_train = train_dev_emb.TFIDF.tolist()\n",
    "y_train = train_dev_emb['Sentiment']\n",
    "X_test = test_emb.TFIDF.tolist()\n",
    "logit = LogisticRegression(C=5e1, solver='lbfgs', multi_class='ovr', random_state=17, n_jobs=4) \n",
    "logit.fit(X_train, y_train)\n",
    "y_pred = logit.predict(X_test)\n",
    "# for kaggle upload \n",
    "test_preds = y_pred\n",
    "test_preds = logit.predict(X_test)\n",
    "test_preds_df = pd.DataFrame({'Category':test_preds})\n",
    "test_preds_df.index.name = 'Id'\n",
    "test_preds_df.to_csv('test_predictions.csv')"
   ]
  },
  {
   "cell_type": "markdown",
   "metadata": {},
   "source": [
    "Kaggle result:\n",
    "\n",
    "0.66000"
   ]
  },
  {
   "cell_type": "markdown",
   "metadata": {},
   "source": [
    "Experimental result was higher for raw tweets not embeddings"
   ]
  },
  {
   "cell_type": "markdown",
   "metadata": {},
   "source": [
    "So far, word embeddings are the most effective feature representations for Logistic regression model\n",
    "\n",
    "Questions:\n",
    "- Is the model responsible for the low accuracy?\n",
    "- Is the choice of feature representation causing low accuracy?\n",
    "\n",
    "Need to test another model!\n",
    "\n",
    "In general for tweets, a model that is supervised is not practical.\n",
    "There is simply too many tweets and rapidly changing language convention for the learning to be effective and therefore unsupervised learning is more practical."
   ]
  },
  {
   "cell_type": "markdown",
   "metadata": {
    "collapsed": false
   },
   "source": [
    "## Multinomial Naive Bayes\n",
    "- Python 3 Text Processing with NLTK 3 Cookbook"
   ]
  },
  {
   "cell_type": "code",
   "execution_count": 71,
   "metadata": {},
   "outputs": [],
   "source": [
    "clf = MultinomialNB()"
   ]
  },
  {
   "cell_type": "markdown",
   "metadata": {},
   "source": [
    "use the tfidf features as they are nonzero"
   ]
  },
  {
   "cell_type": "code",
   "execution_count": 82,
   "metadata": {},
   "outputs": [
    {
     "data": {
      "text/plain": [
       "0.6755"
      ]
     },
     "execution_count": 82,
     "metadata": {},
     "output_type": "execute_result"
    }
   ],
   "source": [
    "X_train = train_tfidf['TFIDF'].tolist()\n",
    "y_train = train_tfidf['Sentiment']\n",
    "X_dev = dev_tfidf['TFIDF'].tolist()\n",
    "y_dev = dev_tfidf['Sentiment'].tolist()\n",
    "clf.fit(X_train, y_train)\n",
    "y_pred = clf.predict(X_dev)\n",
    "f1_score(y_dev, y_pred, average='micro')"
   ]
  },
  {
   "cell_type": "markdown",
   "metadata": {},
   "source": [
    "try normalizing the features: Raw, TFIDF, embedded"
   ]
  },
  {
   "cell_type": "code",
   "execution_count": 84,
   "metadata": {},
   "outputs": [
    {
     "data": {
      "text/plain": [
       "0.6735"
      ]
     },
     "execution_count": 84,
     "metadata": {},
     "output_type": "execute_result"
    }
   ],
   "source": [
    "p = Pipeline([('Normalizing',MinMaxScaler()),('MultinomialNB',MultinomialNB())])\n",
    "p.fit(X_train,y_train) \n",
    "p.score(X_dev, y_dev)"
   ]
  },
  {
   "cell_type": "markdown",
   "metadata": {},
   "source": [
    "try to use embeddings"
   ]
  },
  {
   "cell_type": "code",
   "execution_count": 86,
   "metadata": {},
   "outputs": [
    {
     "data": {
      "text/plain": [
       "0.61425"
      ]
     },
     "execution_count": 86,
     "metadata": {},
     "output_type": "execute_result"
    }
   ],
   "source": [
    "X_train = train_emb['TFIDF'].tolist()\n",
    "y_train = train_emb['Sentiment']\n",
    "X_dev = dev_emb['TFIDF'].tolist()\n",
    "y_dev = dev_emb['Sentiment'].tolist()\n",
    "p = Pipeline([('Normalizing',MinMaxScaler()),('MultinomialNB',MultinomialNB())])\n",
    "p.fit(X_train,y_train) \n",
    "p.score(X_dev, y_dev)"
   ]
  },
  {
   "cell_type": "markdown",
   "metadata": {
    "collapsed": false,
    "pycharm": {
     "name": "#%% md\n"
    }
   },
   "source": [
    "## Neural Network\n",
    "- multilayer perceptron"
   ]
  },
  {
   "cell_type": "code",
   "execution_count": 116,
   "metadata": {},
   "outputs": [
    {
     "data": {
      "text/plain": [
       "0.68875"
      ]
     },
     "execution_count": 116,
     "metadata": {},
     "output_type": "execute_result"
    }
   ],
   "source": [
    "X_train = train_emb['TFIDF'].tolist()\n",
    "y_train = train_emb['Sentiment']\n",
    "X_dev = dev_emb['TFIDF'].tolist()\n",
    "y_dev = dev_emb['Sentiment']\n",
    "\n",
    "clf = MLPClassifier(solver='lbfgs', alpha=1e-5, hidden_layer_sizes=(5, 2), random_state=1)\n",
    "\n",
    "clf.fit(X_train, y_train)\n",
    "y_pred = clf.predict(X_dev)\n",
    "f1_score(y_dev, y_pred, average='micro')"
   ]
  },
  {
   "cell_type": "markdown",
   "metadata": {},
   "source": [
    "normalize the features"
   ]
  },
  {
   "cell_type": "code",
   "execution_count": 114,
   "metadata": {},
   "outputs": [],
   "source": [
    "scaler = StandardScaler().fit(X_train)\n",
    "X_train_scaled = scaler.transform(X_train)\n",
    "X_dev_scaled = scaler.transform(X_dev)"
   ]
  },
  {
   "cell_type": "code",
   "execution_count": 115,
   "metadata": {},
   "outputs": [
    {
     "data": {
      "text/plain": [
       "0.6905"
      ]
     },
     "execution_count": 115,
     "metadata": {},
     "output_type": "execute_result"
    }
   ],
   "source": [
    "clf = MLPClassifier(solver='lbfgs', alpha=1e-5, hidden_layer_sizes=(5, 2), random_state=1)\n",
    "clf.fit(X_train_scaled, y_train)\n",
    "y_pred = clf.predict(X_dev_scaled)\n",
    "f1_score(y_dev, y_pred, average='micro')"
   ]
  },
  {
   "cell_type": "markdown",
   "metadata": {},
   "source": [
    "try with minmax scaler"
   ]
  },
  {
   "cell_type": "code",
   "execution_count": 117,
   "metadata": {},
   "outputs": [
    {
     "data": {
      "text/plain": [
       "0.5"
      ]
     },
     "execution_count": 117,
     "metadata": {},
     "output_type": "execute_result"
    }
   ],
   "source": [
    "scaler = MinMaxScaler().fit(X_train)\n",
    "X_train_scaled = scaler.transform(X_train)\n",
    "X_dev_scaled = scaler.transform(X_dev)\n",
    "clf = MLPClassifier(solver='lbfgs', alpha=1e-5, hidden_layer_sizes=(5, 2), random_state=1)\n",
    "clf.fit(X_train_scaled, y_train)\n",
    "y_pred = clf.predict(X_dev_scaled)\n",
    "f1_score(y_dev, y_pred, average='micro')"
   ]
  },
  {
   "cell_type": "markdown",
   "metadata": {},
   "source": [
    "use StandardScaler"
   ]
  },
  {
   "cell_type": "code",
   "execution_count": 120,
   "metadata": {},
   "outputs": [],
   "source": [
    "scaler = StandardScaler().fit(X_train)\n",
    "X_train_scaled = scaler.transform(X_train)\n",
    "X_dev_scaled = scaler.transform(X_dev)"
   ]
  },
  {
   "cell_type": "markdown",
   "metadata": {},
   "source": [
    "optimize the MLP\n",
    "- number of hidden layers\n",
    "- iterations/criteria\n",
    "- activation function"
   ]
  },
  {
   "cell_type": "markdown",
   "metadata": {},
   "source": [
    "try a different activation function\n",
    "\n",
    "https://scikit-learn.org/stable/modules/generated/sklearn.neural_network.MLPClassifier.html\n",
    "\n",
    "‘identity’, no-op activation, useful to implement linear bottleneck, returns f(x) = x\n",
    "\n",
    "‘logistic’, the logistic sigmoid function, returns f(x) = 1 / (1 + exp(-x)).\n",
    "\n",
    "‘tanh’, the hyperbolic tan function, returns f(x) = tanh(x)."
   ]
  },
  {
   "cell_type": "code",
   "execution_count": 198,
   "metadata": {},
   "outputs": [
    {
     "data": {
      "text/plain": [
       "0.65975"
      ]
     },
     "execution_count": 198,
     "metadata": {},
     "output_type": "execute_result"
    }
   ],
   "source": [
    "clf = MLPClassifier(activation='tanh', solver='lbfgs', alpha=1e-5, hidden_layer_sizes=(5, 2), random_state=1)\n",
    "clf.fit(X_train_scaled, y_train)\n",
    "y_pred = clf.predict(X_dev_scaled)\n",
    "f1_score(y_dev, y_pred, average='micro')"
   ]
  },
  {
   "cell_type": "code",
   "execution_count": 199,
   "metadata": {},
   "outputs": [
    {
     "data": {
      "text/plain": [
       "0.666"
      ]
     },
     "execution_count": 199,
     "metadata": {},
     "output_type": "execute_result"
    }
   ],
   "source": [
    "clf = MLPClassifier(activation='logistic', solver='lbfgs', alpha=1e-5, hidden_layer_sizes=(5, 2), random_state=1)\n",
    "clf.fit(X_train_scaled, y_train)\n",
    "y_pred = clf.predict(X_dev_scaled)\n",
    "f1_score(y_dev, y_pred, average='micro')"
   ]
  },
  {
   "cell_type": "markdown",
   "metadata": {},
   "source": [
    "default activation function works best: \n",
    "\n",
    "‘relu’, the rectified linear unit function, returns f(x) = max(0, x)"
   ]
  },
  {
   "cell_type": "markdown",
   "metadata": {},
   "source": [
    "does increasing iterations help?"
   ]
  },
  {
   "cell_type": "code",
   "execution_count": 121,
   "metadata": {},
   "outputs": [
    {
     "data": {
      "text/plain": [
       "0.691"
      ]
     },
     "execution_count": 121,
     "metadata": {},
     "output_type": "execute_result"
    }
   ],
   "source": [
    "# default max_iter = 200\n",
    "clf = MLPClassifier(max_iter=500, solver='lbfgs', alpha=1e-5, hidden_layer_sizes=(5, 2), random_state=1)\n",
    "clf.fit(X_train_scaled, y_train)\n",
    "y_pred = clf.predict(X_dev_scaled)\n",
    "f1_score(y_dev, y_pred, average='micro')"
   ]
  },
  {
   "cell_type": "markdown",
   "metadata": {},
   "source": [
    "yes it does, what about increasing it even more?"
   ]
  },
  {
   "cell_type": "code",
   "execution_count": 122,
   "metadata": {},
   "outputs": [
    {
     "data": {
      "text/plain": [
       "0.6895"
      ]
     },
     "execution_count": 122,
     "metadata": {},
     "output_type": "execute_result"
    }
   ],
   "source": [
    "clf = MLPClassifier(max_iter=5000, solver='lbfgs', alpha=1e-5, hidden_layer_sizes=(5, 2), random_state=1)\n",
    "clf.fit(X_train_scaled, y_train)\n",
    "y_pred = clf.predict(X_dev_scaled)\n",
    "f1_score(y_dev, y_pred, average='micro')"
   ]
  },
  {
   "cell_type": "markdown",
   "metadata": {},
   "source": [
    "optimize the layers,k use an empirical approach"
   ]
  },
  {
   "cell_type": "code",
   "execution_count": 123,
   "metadata": {},
   "outputs": [
    {
     "data": {
      "text/plain": [
       "0.65725"
      ]
     },
     "execution_count": 123,
     "metadata": {},
     "output_type": "execute_result"
    }
   ],
   "source": [
    "clf = MLPClassifier(solver='lbfgs', alpha=1e-5, hidden_layer_sizes=(100, 2), random_state=1)\n",
    "clf.fit(X_train_scaled, y_train)\n",
    "y_pred = clf.predict(X_dev_scaled)\n",
    "f1_score(y_dev, y_pred, average='micro')"
   ]
  },
  {
   "cell_type": "code",
   "execution_count": 124,
   "metadata": {},
   "outputs": [
    {
     "data": {
      "text/plain": [
       "0.69075"
      ]
     },
     "execution_count": 124,
     "metadata": {},
     "output_type": "execute_result"
    }
   ],
   "source": [
    "clf = MLPClassifier(solver='lbfgs', alpha=1e-5, hidden_layer_sizes=(3, 2), random_state=1)\n",
    "clf.fit(X_train_scaled, y_train)\n",
    "y_pred = clf.predict(X_dev_scaled)\n",
    "f1_score(y_dev, y_pred, average='micro')"
   ]
  },
  {
   "cell_type": "code",
   "execution_count": 125,
   "metadata": {},
   "outputs": [
    {
     "data": {
      "text/plain": [
       "0.68325"
      ]
     },
     "execution_count": 125,
     "metadata": {},
     "output_type": "execute_result"
    }
   ],
   "source": [
    "clf = MLPClassifier(solver='lbfgs', alpha=1e-5, hidden_layer_sizes=(7, 2), random_state=1)\n",
    "clf.fit(X_train_scaled, y_train)\n",
    "y_pred = clf.predict(X_dev_scaled)\n",
    "f1_score(y_dev, y_pred, average='micro')"
   ]
  },
  {
   "cell_type": "code",
   "execution_count": 126,
   "metadata": {},
   "outputs": [
    {
     "data": {
      "text/plain": [
       "0.7"
      ]
     },
     "execution_count": 126,
     "metadata": {},
     "output_type": "execute_result"
    }
   ],
   "source": [
    "clf = MLPClassifier(solver='lbfgs', alpha=1e-5, hidden_layer_sizes=(7, 4, 2), random_state=1)\n",
    "clf.fit(X_train_scaled, y_train)\n",
    "y_pred = clf.predict(X_dev_scaled)\n",
    "f1_score(y_dev, y_pred, average='micro')"
   ]
  },
  {
   "cell_type": "code",
   "execution_count": 127,
   "metadata": {},
   "outputs": [
    {
     "data": {
      "text/plain": [
       "0.6705"
      ]
     },
     "execution_count": 127,
     "metadata": {},
     "output_type": "execute_result"
    }
   ],
   "source": [
    "clf = MLPClassifier(solver='lbfgs', alpha=1e-5, hidden_layer_sizes=(20, 7, 4, 2), random_state=1)\n",
    "clf.fit(X_train_scaled, y_train)\n",
    "y_pred = clf.predict(X_dev_scaled)\n",
    "f1_score(y_dev, y_pred, average='micro')"
   ]
  },
  {
   "cell_type": "code",
   "execution_count": 128,
   "metadata": {},
   "outputs": [
    {
     "data": {
      "text/plain": [
       "0.6865"
      ]
     },
     "execution_count": 128,
     "metadata": {},
     "output_type": "execute_result"
    }
   ],
   "source": [
    "clf = MLPClassifier(solver='lbfgs', alpha=1e-5, hidden_layer_sizes=(9, 3, 4), random_state=1)\n",
    "clf.fit(X_train_scaled, y_train)\n",
    "y_pred = clf.predict(X_dev_scaled)\n",
    "f1_score(y_dev, y_pred, average='micro')"
   ]
  },
  {
   "cell_type": "markdown",
   "metadata": {},
   "source": [
    "Tune the neural network parameters\n",
    "- learning rate\n",
    "- layers"
   ]
  },
  {
   "cell_type": "markdown",
   "metadata": {},
   "source": [
    "try it on the tfidf data since feature engineering ntoe required for MLP"
   ]
  },
  {
   "cell_type": "code",
   "execution_count": 189,
   "metadata": {},
   "outputs": [
    {
     "data": {
      "text/plain": [
       "0.67875"
      ]
     },
     "execution_count": 189,
     "metadata": {},
     "output_type": "execute_result"
    }
   ],
   "source": [
    "X_train = train_tfidf['TFIDF'].tolist()\n",
    "y_train = train_tfidf['Sentiment']\n",
    "X_dev = dev_tfidf['TFIDF'].tolist()\n",
    "y_dev = dev_tfidf['Sentiment']\n",
    "clf = MLPClassifier(solver='lbfgs', alpha=1e-5, hidden_layer_sizes=(7, 4, 2), random_state=1)\n",
    "clf.fit(X_train, y_train)\n",
    "y_pred = clf.predict(X_dev)\n",
    "f1_score(y_dev, y_pred, average='micro')"
   ]
  },
  {
   "cell_type": "markdown",
   "metadata": {
    "collapsed": false,
    "pycharm": {
     "name": "#%% md\n"
    }
   },
   "source": [
    "# Unsupervised Learners\n",
    "\n",
    "- VADER\n"
   ]
  },
  {
   "cell_type": "markdown",
   "metadata": {},
   "source": [
    "https://www.geeksforgeeks.org/python-sentiment-analysis-using-vader/\n",
    "\n",
    "The Compound score is a metric that calculates the sum of all the lexicon ratings which have been normalized between -1(most extreme negative) and +1 (most extreme positive).\n",
    "positive sentiment : (compound score >= 0.05) \n",
    "neutral sentiment : (compound score > -0.05) and (compound score < 0.05) \n",
    "negative sentiment : (compound score <= -0.05)"
   ]
  },
  {
   "cell_type": "markdown",
   "metadata": {},
   "source": [
    "^^^ todo try using a higher weight for AAE to stablize bias (???)"
   ]
  },
  {
   "cell_type": "code",
   "execution_count": 3,
   "metadata": {},
   "outputs": [],
   "source": [
    "from unsupervised import UnsupervisedClassifier"
   ]
  },
  {
   "cell_type": "code",
   "execution_count": 4,
   "metadata": {},
   "outputs": [
    {
     "data": {
      "text/plain": [
       "array(['positive', 'positive', 'positive', ..., 'positive', 'positive',\n",
       "       'negative'], dtype='<U8')"
      ]
     },
     "execution_count": 4,
     "metadata": {},
     "output_type": "execute_result"
    }
   ],
   "source": [
    "clf = UnsupervisedClassifier()\n",
    "#clf.fit(train_raw['text'], train_emb['TFIDF'])\n",
    "# testing, reduce the data size \n",
    "clf.fit(train_raw['text'].iloc[:50], train_emb['TFIDF'].iloc[:50])\n",
    "clf.predict(dev_raw['text'], dev_emb['TFIDF'])"
   ]
  },
  {
   "cell_type": "code",
   "execution_count": 5,
   "metadata": {},
   "outputs": [
    {
     "data": {
      "text/plain": [
       "0.6"
      ]
     },
     "execution_count": 5,
     "metadata": {},
     "output_type": "execute_result"
    }
   ],
   "source": [
    "# the classifier takes series input\n",
    "X_train_raw = train_raw['text']\n",
    "X_train_emb = train_emb['TFIDF']\n",
    "\n",
    "X_dev_raw = dev_raw['text']\n",
    "X_dev_emb = dev_emb['TFIDF']\n",
    "y_dev = dev_emb['Sentiment']\n",
    "\n",
    "\n",
    "clf = UnsupervisedClassifier()\n",
    "\n",
    "clf.fit(X_train_raw, X_train_emb)\n",
    "y_pred = clf.predict(X_dev_raw, X_dev_emb)\n",
    "f1_score(y_dev, y_pred, average='micro')"
   ]
  },
  {
   "cell_type": "markdown",
   "metadata": {},
   "source": [
    "increase the number of clusters"
   ]
  },
  {
   "cell_type": "code",
   "execution_count": 6,
   "metadata": {},
   "outputs": [
    {
     "data": {
      "text/plain": [
       "0.57125"
      ]
     },
     "execution_count": 6,
     "metadata": {},
     "output_type": "execute_result"
    }
   ],
   "source": [
    "# the classifier takes series input\n",
    "X_train_raw = train_raw['text']\n",
    "X_train_emb = train_emb['TFIDF']\n",
    "\n",
    "X_dev_raw = dev_raw['text']\n",
    "X_dev_emb = dev_emb['TFIDF']\n",
    "y_dev = dev_emb['Sentiment']\n",
    "\n",
    "\n",
    "clf = UnsupervisedClassifier(10)\n",
    "\n",
    "clf.fit(X_train_raw, X_train_emb)\n",
    "y_pred = clf.predict(X_dev_raw, X_dev_emb)\n",
    "f1_score(y_dev, y_pred, average='micro')"
   ]
  },
  {
   "cell_type": "code",
   "execution_count": null,
   "metadata": {},
   "outputs": [],
   "source": [
    "# the classifier takes series input\n",
    "X_train_raw = train_raw['text']\n",
    "X_train_emb = train_emb['TFIDF']\n",
    "\n",
    "X_dev_raw = dev_raw['text']\n",
    "X_dev_emb = dev_emb['TFIDF']\n",
    "y_dev = dev_emb['Sentiment']\n",
    "\n",
    "\n",
    "clf = UnsupervisedClassifier(mode='simple')\n",
    "\n",
    "clf.fit(X_train_raw, X_train_emb)\n",
    "y_pred = clf.predict(X_dev_raw, X_dev_emb)\n",
    "f1_score(y_dev, y_pred, average='micro')"
   ]
  },
  {
   "cell_type": "markdown",
   "metadata": {},
   "source": [
    "Now that the training data has been fully predicted (without supervision)\n",
    "\n",
    "Predict labels of the dev set and evaluate"
   ]
  },
  {
   "cell_type": "markdown",
   "metadata": {},
   "source": [
    "For neutral sentiments, use KMeans clustering via embedded features\n",
    "\n",
    "Feature embedding is pre-trained, is numeric and gives meaning according to distance in 3D space\n",
    "\n",
    "Todo normalize Embeddings (???)"
   ]
  },
  {
   "cell_type": "markdown",
   "metadata": {
    "collapsed": false,
    "pycharm": {
     "name": "#%% md\n"
    }
   },
   "source": [
    "# Semisupervised learner/s"
   ]
  },
  {
   "cell_type": "markdown",
   "metadata": {},
   "source": [
    "Baseline semi-supervised learner\n",
    "- train the model on training and dev data\n",
    "- make predictions for unlabelled data\n",
    "- cross-validate the model with all of the x,y from training, dev, and unlabelled data and predictions"
   ]
  },
  {
   "cell_type": "markdown",
   "metadata": {},
   "source": [
    "## Clustering, majority voting, 1NN"
   ]
  },
  {
   "cell_type": "code",
   "execution_count": 3,
   "metadata": {},
   "outputs": [
    {
     "name": "stdout",
     "output_type": "stream",
     "text": [
      "['negative' 'positive' 'negative' ... 'positive' 'positive' 'negative'] ['positive' 'positive' 'negative' ... 'negative' 'positive' 'negative']\n"
     ]
    },
    {
     "data": {
      "text/plain": [
       "0.52575"
      ]
     },
     "execution_count": 3,
     "metadata": {},
     "output_type": "execute_result"
    }
   ],
   "source": [
    "# prepare a kaggle submission from this classifier\n",
    "from semisupervised import KMeansClustering1NN\n",
    "clf = KMeansClustering1NN(2)\n",
    "\n",
    "# train it on train_val and also on unlabelled data \n",
    "# see if it performs better than just KMeans alone!\n",
    "X_train = np.array(train_emb['TFIDF'].tolist() + unlabelled_emb['TFIDF'].tolist())[:10]\n",
    "y_train = np.array(train_emb['Sentiment'].tolist() + ['None'] * len(unlabelled_emb))[:10]\n",
    "\n",
    "X_dev = np.array(dev_emb['TFIDF'].tolist())\n",
    "y_dev = np.array(dev_emb['Sentiment'].tolist())\n",
    "\n",
    "clf.fit(X_train, y_train)\n",
    "\n",
    "y_pred = clf.predict(X_dev)\n",
    "\n",
    "print(y_dev, y_pred)\n",
    "\n",
    "f1_score(y_dev, y_pred, average='micro')"
   ]
  },
  {
   "cell_type": "code",
   "execution_count": 4,
   "metadata": {},
   "outputs": [
    {
     "name": "stdout",
     "output_type": "stream",
     "text": [
      "['negative' 'positive' 'negative' ... 'positive' 'positive' 'negative'] ['positive' 'positive' 'negative' ... 'negative' 'positive' 'negative']\n"
     ]
    },
    {
     "data": {
      "text/plain": [
       "0.52575"
      ]
     },
     "execution_count": 4,
     "metadata": {},
     "output_type": "execute_result"
    }
   ],
   "source": [
    "# prepare a kaggle submission from this classifier\n",
    "from semisupervised import KMeansClustering1NN\n",
    "clf = KMeansClustering1NN(10)\n",
    "\n",
    "# train it on train_val and also on unlabelled data \n",
    "# see if it performs better than just KMeans alone!\n",
    "X_train = np.array(train_emb['TFIDF'].tolist() + unlabelled_emb['TFIDF'].tolist())[:10]\n",
    "y_train = np.array(train_emb['Sentiment'].tolist() + ['None'] * len(unlabelled_emb))[:10]\n",
    "\n",
    "X_dev = np.array(dev_emb['TFIDF'].tolist())\n",
    "y_dev = np.array(dev_emb['Sentiment'].tolist())\n",
    "\n",
    "clf.fit(X_train, y_train)\n",
    "\n",
    "y_pred = clf.predict(X_dev)\n",
    "\n",
    "print(y_dev, y_pred)\n",
    "\n",
    "f1_score(y_dev, y_pred, average='micro')"
   ]
  },
  {
   "cell_type": "code",
   "execution_count": 10,
   "metadata": {},
   "outputs": [],
   "source": [
    "# prepare a kaggle submission from this classifier\n",
    "from semisupervised import KMeansClustering1NN\n",
    "clf = KMeansClustering1NN(2)\n",
    "\n",
    "# train it on train_val and also on unlabelled data \n",
    "# see if it performs better than just KMeans alone!\n",
    "X_train = np.array(train_val_emb['TFIDF'].tolist() + unlabeled_emb['TFIDF'].tolist())\n",
    "y_train = np.array(train_val_emb['Sentiment'].tolist() + ['None'] * len(unlabeled_emb))\n",
    "\n",
    "X_test = np.array(test_emb['TFIDF'].tolist())\n",
    "\n",
    "clf.fit(X_train, y_train)\n",
    "\n",
    "y_pred = clf.predict(X_test)"
   ]
  },
  {
   "cell_type": "markdown",
   "metadata": {},
   "source": [
    "Kaggle result:\n",
    "\n",
    "0.61000"
   ]
  },
  {
   "cell_type": "code",
   "execution_count": 12,
   "metadata": {},
   "outputs": [
    {
     "data": {
      "text/html": [
       "<div>\n",
       "<style scoped>\n",
       "    .dataframe tbody tr th:only-of-type {\n",
       "        vertical-align: middle;\n",
       "    }\n",
       "\n",
       "    .dataframe tbody tr th {\n",
       "        vertical-align: top;\n",
       "    }\n",
       "\n",
       "    .dataframe thead th {\n",
       "        text-align: right;\n",
       "    }\n",
       "</style>\n",
       "<table border=\"1\" class=\"dataframe\">\n",
       "  <thead>\n",
       "    <tr style=\"text-align: right;\">\n",
       "      <th></th>\n",
       "      <th>Category</th>\n",
       "    </tr>\n",
       "    <tr>\n",
       "      <th>Id</th>\n",
       "      <th></th>\n",
       "    </tr>\n",
       "  </thead>\n",
       "  <tbody>\n",
       "    <tr>\n",
       "      <th>0</th>\n",
       "      <td>negative</td>\n",
       "    </tr>\n",
       "    <tr>\n",
       "      <th>1</th>\n",
       "      <td>positive</td>\n",
       "    </tr>\n",
       "    <tr>\n",
       "      <th>2</th>\n",
       "      <td>positive</td>\n",
       "    </tr>\n",
       "    <tr>\n",
       "      <th>3</th>\n",
       "      <td>negative</td>\n",
       "    </tr>\n",
       "    <tr>\n",
       "      <th>4</th>\n",
       "      <td>negative</td>\n",
       "    </tr>\n",
       "    <tr>\n",
       "      <th>...</th>\n",
       "      <td>...</td>\n",
       "    </tr>\n",
       "    <tr>\n",
       "      <th>3995</th>\n",
       "      <td>negative</td>\n",
       "    </tr>\n",
       "    <tr>\n",
       "      <th>3996</th>\n",
       "      <td>positive</td>\n",
       "    </tr>\n",
       "    <tr>\n",
       "      <th>3997</th>\n",
       "      <td>negative</td>\n",
       "    </tr>\n",
       "    <tr>\n",
       "      <th>3998</th>\n",
       "      <td>negative</td>\n",
       "    </tr>\n",
       "    <tr>\n",
       "      <th>3999</th>\n",
       "      <td>positive</td>\n",
       "    </tr>\n",
       "  </tbody>\n",
       "</table>\n",
       "<p>4000 rows × 1 columns</p>\n",
       "</div>"
      ],
      "text/plain": [
       "      Category\n",
       "Id            \n",
       "0     negative\n",
       "1     positive\n",
       "2     positive\n",
       "3     negative\n",
       "4     negative\n",
       "...        ...\n",
       "3995  negative\n",
       "3996  positive\n",
       "3997  negative\n",
       "3998  negative\n",
       "3999  positive\n",
       "\n",
       "[4000 rows x 1 columns]"
      ]
     },
     "execution_count": 12,
     "metadata": {},
     "output_type": "execute_result"
    }
   ],
   "source": [
    "# try with more clusters\n",
    "# prepare a kaggle submission from this classifier\n",
    "from semisupervised import KMeansClustering1NN\n",
    "clf = KMeansClustering1NN(10)\n",
    "\n",
    "# train it on train_val and also on unlabelled data \n",
    "# see if it performs better than just KMeans alone!\n",
    "X_train = np.array(train_val_emb['TFIDF'].tolist() + unlabeled_emb['TFIDF'].tolist())\n",
    "y_train = np.array(train_val_emb['Sentiment'].tolist() + ['None'] * len(unlabeled_emb))\n",
    "\n",
    "X_test = np.array(test_emb['TFIDF'].tolist())\n",
    "\n",
    "clf.fit(X_train, y_train)\n",
    "\n",
    "y_pred = clf.predict(X_test)\n",
    "# for kaggle upload \n",
    "test_preds = y_pred\n",
    "test_preds_df = pd.DataFrame({'Category':test_preds})\n",
    "test_preds_df.index.name = 'Id'\n",
    "test_preds_df.to_csv('test_preds.csv')\n",
    "test_preds_df"
   ]
  },
  {
   "cell_type": "markdown",
   "metadata": {},
   "source": [
    "Kaggle result with more clusters (10):\n",
    "\n",
    "Score: 0.62749"
   ]
  },
  {
   "cell_type": "markdown",
   "metadata": {},
   "source": [
    "### SelfTrainingClassifier \n",
    "- logistic regression\n",
    "- support vector machines"
   ]
  },
  {
   "cell_type": "code",
   "execution_count": 3,
   "metadata": {},
   "outputs": [],
   "source": [
    "logit = LogisticRegression(C=5e1, solver='lbfgs', multi_class='ovr', random_state=17, n_jobs=4)"
   ]
  },
  {
   "cell_type": "code",
   "execution_count": 4,
   "metadata": {},
   "outputs": [],
   "source": [
    "X_train = train_emb['TFIDF'].tolist()\n",
    "X_dev = dev_emb['TFIDF'].tolist()\n",
    "y_train = train_emb['Sentiment']\n",
    "y_dev = dev_emb['Sentiment']"
   ]
  },
  {
   "cell_type": "markdown",
   "metadata": {},
   "source": [
    "test it once without unlabelled data"
   ]
  },
  {
   "cell_type": "code",
   "execution_count": 5,
   "metadata": {},
   "outputs": [],
   "source": [
    "clf = SelfTrainingClassifier(logit)\n",
    "clf.fit(X_train, y_train)\n",
    "y_pred = clf.predict(X_dev)\n",
    "f1_score(y_dev, y_pred, average='micro')"
   ]
  },
  {
   "cell_type": "code",
   "execution_count": 5,
   "metadata": {},
   "outputs": [],
   "source": [
    "X_train = pd.concat([train_emb, unlabelled_emb]).TFIDF.tolist()\n",
    "y_train = pd.concat([train_emb, unlabelled_emb]).Sentiment.apply(lambda x: x if x != None else -1)"
   ]
  },
  {
   "cell_type": "markdown",
   "metadata": {},
   "source": [
    "test with the unlabelled data"
   ]
  },
  {
   "cell_type": "code",
   "execution_count": 6,
   "metadata": {},
   "outputs": [],
   "source": [
    "clf = SelfTrainingClassifier(logit)\n",
    "clf.fit(X_train, y_train)\n",
    "y_pred = clf.predict(X_dev)\n",
    "f1_score(y_dev, y_pred, average='micro')"
   ]
  },
  {
   "cell_type": "markdown",
   "metadata": {},
   "source": [
    "## Semisupervised MLP"
   ]
  },
  {
   "cell_type": "code",
   "execution_count": 3,
   "metadata": {},
   "outputs": [],
   "source": [
    "X_train = train_emb['TFIDF'].tolist()\n",
    "X_dev = dev_emb['TFIDF'].tolist()\n",
    "y_train = train_emb['Sentiment']\n",
    "y_dev = dev_emb['Sentiment']"
   ]
  },
  {
   "cell_type": "code",
   "execution_count": 107,
   "metadata": {},
   "outputs": [
    {
     "data": {
      "text/plain": [
       "0.6925"
      ]
     },
     "execution_count": 107,
     "metadata": {},
     "output_type": "execute_result"
    }
   ],
   "source": [
    "# Semisupvervised MLP\n",
    "mlp = MLPClassifier(solver='lbfgs', alpha=1e-5, hidden_layer_sizes=(7, 4, 2), random_state=1)\n",
    "#clf = SelfTrainingClassifier(mlp)\n",
    "clf = SelfTrainingClassifier(mlp, criterion='k_best', k_best=20)\n",
    "clf.fit(X_train, y_train)\n",
    "y_pred = clf.predict(X_dev)\n",
    "f1_score(y_dev, y_pred, average='micro')"
   ]
  },
  {
   "cell_type": "code",
   "execution_count": 4,
   "metadata": {},
   "outputs": [],
   "source": [
    "X_train = pd.concat([train_emb, unlabelled_emb]).TFIDF.tolist()\n",
    "y_train = pd.concat([train_emb, unlabelled_emb]).Sentiment.apply(lambda x: x if x != None else -1)"
   ]
  },
  {
   "cell_type": "code",
   "execution_count": 5,
   "metadata": {},
   "outputs": [
    {
     "data": {
      "text/plain": [
       "0.696"
      ]
     },
     "execution_count": 5,
     "metadata": {},
     "output_type": "execute_result"
    }
   ],
   "source": [
    "# Semisupvervised MLP\n",
    "mlp = MLPClassifier(solver='lbfgs', alpha=1e-5, hidden_layer_sizes=(7, 4, 2), random_state=1)\n",
    "#clf = SelfTrainingClassifier(mlp)\n",
    "clf = SelfTrainingClassifier(mlp, criterion='k_best', k_best=20, max_iter=2)\n",
    "clf.fit(X_train, y_train)\n",
    "y_pred = clf.predict(X_dev)\n",
    "f1_score(y_dev, y_pred, average='micro')"
   ]
  },
  {
   "cell_type": "code",
   "execution_count": 1,
   "metadata": {},
   "outputs": [
    {
     "ename": "NameError",
     "evalue": "name 'MLPClassifier' is not defined",
     "output_type": "error",
     "traceback": [
      "\u001B[1;31m---------------------------------------------------------------------------\u001B[0m",
      "\u001B[1;31mNameError\u001B[0m                                 Traceback (most recent call last)",
      "\u001B[1;32m<ipython-input-1-7f00be271c99>\u001B[0m in \u001B[0;36m<module>\u001B[1;34m\u001B[0m\n\u001B[0;32m      1\u001B[0m \u001B[1;31m# Semisupvervised MLP\u001B[0m\u001B[1;33m\u001B[0m\u001B[1;33m\u001B[0m\u001B[1;33m\u001B[0m\u001B[0m\n\u001B[1;32m----> 2\u001B[1;33m \u001B[0mmlp\u001B[0m \u001B[1;33m=\u001B[0m \u001B[0mMLPClassifier\u001B[0m\u001B[1;33m(\u001B[0m\u001B[0msolver\u001B[0m\u001B[1;33m=\u001B[0m\u001B[1;34m'lbfgs'\u001B[0m\u001B[1;33m,\u001B[0m \u001B[0malpha\u001B[0m\u001B[1;33m=\u001B[0m\u001B[1;36m1e-5\u001B[0m\u001B[1;33m,\u001B[0m \u001B[0mhidden_layer_sizes\u001B[0m\u001B[1;33m=\u001B[0m\u001B[1;33m(\u001B[0m\u001B[1;36m7\u001B[0m\u001B[1;33m,\u001B[0m \u001B[1;36m4\u001B[0m\u001B[1;33m,\u001B[0m \u001B[1;36m2\u001B[0m\u001B[1;33m)\u001B[0m\u001B[1;33m,\u001B[0m \u001B[0mrandom_state\u001B[0m\u001B[1;33m=\u001B[0m\u001B[1;36m1\u001B[0m\u001B[1;33m)\u001B[0m\u001B[1;33m\u001B[0m\u001B[1;33m\u001B[0m\u001B[0m\n\u001B[0m\u001B[0;32m      3\u001B[0m \u001B[1;31m#clf = SelfTrainingClassifier(mlp)\u001B[0m\u001B[1;33m\u001B[0m\u001B[1;33m\u001B[0m\u001B[1;33m\u001B[0m\u001B[0m\n\u001B[0;32m      4\u001B[0m \u001B[0mclf\u001B[0m \u001B[1;33m=\u001B[0m \u001B[0mSelfTrainingClassifier\u001B[0m\u001B[1;33m(\u001B[0m\u001B[0mmlp\u001B[0m\u001B[1;33m,\u001B[0m \u001B[0mcriterion\u001B[0m\u001B[1;33m=\u001B[0m\u001B[1;34m'k_best'\u001B[0m\u001B[1;33m,\u001B[0m \u001B[0mk_best\u001B[0m\u001B[1;33m=\u001B[0m\u001B[1;36m20\u001B[0m\u001B[1;33m,\u001B[0m \u001B[0mmax_iter\u001B[0m\u001B[1;33m=\u001B[0m\u001B[1;36m2\u001B[0m\u001B[1;33m)\u001B[0m\u001B[1;33m\u001B[0m\u001B[1;33m\u001B[0m\u001B[0m\n\u001B[0;32m      5\u001B[0m \u001B[0mclf\u001B[0m\u001B[1;33m.\u001B[0m\u001B[0mfit\u001B[0m\u001B[1;33m(\u001B[0m\u001B[0mX_train\u001B[0m\u001B[1;33m,\u001B[0m \u001B[0my_train\u001B[0m\u001B[1;33m)\u001B[0m\u001B[1;33m\u001B[0m\u001B[1;33m\u001B[0m\u001B[0m\n",
      "\u001B[1;31mNameError\u001B[0m: name 'MLPClassifier' is not defined"
     ]
    }
   ],
   "source": [
    "# Semisupvervised MLP\n",
    "mlp = MLPClassifier(solver='lbfgs', alpha=1e-5, hidden_layer_sizes=(7, 4, 2), random_state=1)\n",
    "#clf = SelfTrainingClassifier(mlp)\n",
    "clf = SelfTrainingClassifier(mlp, criterion='k_best', k_best=20, max_iter=2)\n",
    "clf.fit(X_train, y_train)\n",
    "y_pred = clf.predict(X_dev)\n",
    "f1_score(y_dev, y_pred, average='micro')"
   ]
  }
 ],
 "metadata": {
  "interpreter": {
   "hash": "8b1f6a4c94cc67db81c14d05ec8082b932fd058d531346646808c426a47add8f"
  },
  "kernelspec": {
   "display_name": "Python (base)",
   "language": "python",
   "name": "base"
  },
  "language_info": {
   "codemirror_mode": {
    "name": "ipython",
    "version": 3
   },
   "file_extension": ".py",
   "mimetype": "text/x-python",
   "name": "python",
   "nbconvert_exporter": "python",
   "pygments_lexer": "ipython3",
   "version": "3.8.8"
  }
 },
 "nbformat": 4,
 "nbformat_minor": 0
}
